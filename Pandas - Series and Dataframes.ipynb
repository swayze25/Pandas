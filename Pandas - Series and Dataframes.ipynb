{
 "cells": [
  {
   "attachments": {},
   "cell_type": "markdown",
   "id": "b8589e6c",
   "metadata": {},
   "source": [
    "# Pandas - Series and Dataframes\n"
   ]
  },
  {
   "cell_type": "code",
   "execution_count": 1,
   "id": "92f243e2",
   "metadata": {
    "scrolled": true
   },
   "outputs": [
    {
     "name": "stdout",
     "output_type": "stream",
     "text": [
      "Defaulting to user installation because normal site-packages is not writeable\n",
      "Requirement already satisfied: pandas in /home/siddharth/.local/lib/python3.8/site-packages (1.4.2)\n",
      "Requirement already satisfied: pytz>=2020.1 in /home/siddharth/.local/lib/python3.8/site-packages (from pandas) (2022.1)\n",
      "Requirement already satisfied: numpy>=1.18.5 in /home/siddharth/.local/lib/python3.8/site-packages (from pandas) (1.22.3)\n",
      "Requirement already satisfied: python-dateutil>=2.8.1 in /home/siddharth/.local/lib/python3.8/site-packages (from pandas) (2.8.2)\n",
      "Requirement already satisfied: six>=1.5 in /usr/lib/python3/dist-packages (from python-dateutil>=2.8.1->pandas) (1.14.0)\n",
      "Note: you may need to restart the kernel to use updated packages.\n"
     ]
    }
   ],
   "source": [
    "pip install pandas"
   ]
  },
  {
   "cell_type": "code",
   "execution_count": 1,
   "id": "f4bd078a",
   "metadata": {},
   "outputs": [
    {
     "name": "stdout",
     "output_type": "stream",
     "text": [
      "1.4.2\n"
     ]
    }
   ],
   "source": [
    "\n",
    "import pandas as pd\n",
    "\n",
    "print(pd.__version__) "
   ]
  },
  {
   "cell_type": "markdown",
   "id": "2b7a5ae4",
   "metadata": {},
   "source": [
    "NOTE : A lot of examples are using a local csv file that I have already kept in a local directory where i have made my notebook, we can see the 'nba.csv' file that we are gonna use in the following way :"
   ]
  },
  {
   "cell_type": "code",
   "execution_count": 46,
   "id": "c29da763",
   "metadata": {},
   "outputs": [
    {
     "name": "stdout",
     "output_type": "stream",
     "text": [
      "              Name            Team  Number Position   Age Height  Weight  \\\n",
      "0    Avery Bradley  Boston Celtics     0.0       PG  25.0    6-2   180.0   \n",
      "1      Jae Crowder  Boston Celtics    99.0       SF  25.0    6-6   235.0   \n",
      "2     John Holland  Boston Celtics    30.0       SG  27.0    6-5   205.0   \n",
      "3      R.J. Hunter  Boston Celtics    28.0       SG  22.0    6-5   185.0   \n",
      "4    Jonas Jerebko  Boston Celtics     8.0       PF  29.0   6-10   231.0   \n",
      "..             ...             ...     ...      ...   ...    ...     ...   \n",
      "453   Shelvin Mack       Utah Jazz     8.0       PG  26.0    6-3   203.0   \n",
      "454      Raul Neto       Utah Jazz    25.0       PG  24.0    6-1   179.0   \n",
      "455   Tibor Pleiss       Utah Jazz    21.0        C  26.0    7-3   256.0   \n",
      "456    Jeff Withey       Utah Jazz    24.0        C  26.0    7-0   231.0   \n",
      "457            NaN             NaN     NaN      NaN   NaN    NaN     NaN   \n",
      "\n",
      "               College     Salary  \n",
      "0                Texas  7730337.0  \n",
      "1            Marquette  6796117.0  \n",
      "2    Boston University        NaN  \n",
      "3        Georgia State  1148640.0  \n",
      "4                  NaN  5000000.0  \n",
      "..                 ...        ...  \n",
      "453             Butler  2433333.0  \n",
      "454                NaN   900000.0  \n",
      "455                NaN  2900000.0  \n",
      "456             Kansas   947276.0  \n",
      "457                NaN        NaN  \n",
      "\n",
      "[458 rows x 9 columns]\n"
     ]
    }
   ],
   "source": [
    "import pandas as pd\n",
    "t = pd.read_csv(\"/home/siddharth/Desktop/Python/Pandas/nba.csv\")\n",
    "print (t)"
   ]
  },
  {
   "cell_type": "markdown",
   "id": "c7601c33",
   "metadata": {},
   "source": [
    "# Series :\n",
    "Pandas Series is a one-dimensional labelled array capable of holding data of any type (integer, string, float, python objects, etc.). The axis labels are collectively called indexes. Pandas Series is nothing but a column in an excel sheet. Labels need not be unique but must be a hashable type. The object supports both integer and label-based indexing and provides a host of methods for performing operations involving the index."
   ]
  },
  {
   "cell_type": "code",
   "execution_count": 30,
   "id": "88ff35cd",
   "metadata": {
    "scrolled": true
   },
   "outputs": [
    {
     "name": "stdout",
     "output_type": "stream",
     "text": [
      "Series([], dtype: float64)\n",
      "0    g\n",
      "1    e\n",
      "2    e\n",
      "3    k\n",
      "4    s\n",
      "dtype: object\n"
     ]
    },
    {
     "name": "stderr",
     "output_type": "stream",
     "text": [
      "/tmp/ipykernel_26340/2689989380.py:6: FutureWarning: The default dtype for empty Series will be 'object' instead of 'float64' in a future version. Specify a dtype explicitly to silence this warning.\n",
      "  ser = pd.Series()\n"
     ]
    }
   ],
   "source": [
    "import pandas as pd\n",
    "import numpy as np\n",
    "\n",
    "\n",
    "# Creating empty series\n",
    "ser = pd.Series()\n",
    "\n",
    "print(ser)\n",
    "\n",
    "# simple array\n",
    "data = np.array(['g', 'e', 'e', 'k', 's'])\n",
    "\n",
    "ser = pd.Series(data)\n",
    "print(ser)\n"
   ]
  },
  {
   "cell_type": "code",
   "execution_count": 5,
   "id": "3bc312e3",
   "metadata": {},
   "outputs": [
    {
     "name": "stdout",
     "output_type": "stream",
     "text": [
      "0    g\n",
      "1    e\n",
      "2    e\n",
      "3    k\n",
      "4    s\n",
      "dtype: object\n"
     ]
    }
   ],
   "source": [
    "# import pandas as pd\n",
    "import pandas as pd\n",
    " \n",
    "# import numpy as np\n",
    "import numpy as np\n",
    " \n",
    "# simple array\n",
    "data = np.array(['g','e','e','k','s'])\n",
    " \n",
    "ser = pd.Series(data)\n",
    "print(ser)"
   ]
  },
  {
   "cell_type": "markdown",
   "id": "258805b6",
   "metadata": {},
   "source": [
    "Creating a series from Lists:\n",
    "\n",
    "In order to create a series from list, we have to first create a list after that we can create a series from list."
   ]
  },
  {
   "cell_type": "code",
   "execution_count": 6,
   "id": "9f16e8b9",
   "metadata": {},
   "outputs": [
    {
     "name": "stdout",
     "output_type": "stream",
     "text": [
      "0    g\n",
      "1    e\n",
      "2    e\n",
      "3    k\n",
      "4    s\n",
      "dtype: object\n"
     ]
    }
   ],
   "source": [
    "import pandas as pd\n",
    " \n",
    "# a simple list\n",
    "list = ['g', 'e', 'e', 'k', 's']\n",
    "  \n",
    "# create series form a list\n",
    "ser = pd.Series(list)\n",
    "print(ser)"
   ]
  },
  {
   "cell_type": "markdown",
   "id": "29fdbead",
   "metadata": {},
   "source": [
    "There are two ways through which we can access element of series, they are :\n",
    "\n",
    "    Accessing Element from Series with Position\n",
    "    Accessing Element Using Label (index)\n",
    "    \n",
    "Accessing Element from Series with Position : In order to access the series element refers to the index number. Use the index operator [ ] to access an element in a series. The index must be an integer. In order to access multiple elements from a series, we use Slice operation."
   ]
  },
  {
   "cell_type": "code",
   "execution_count": 7,
   "id": "62fa0126",
   "metadata": {},
   "outputs": [
    {
     "name": "stdout",
     "output_type": "stream",
     "text": [
      "0    g\n",
      "1    e\n",
      "2    e\n",
      "3    k\n",
      "4    s\n",
      "dtype: object\n"
     ]
    }
   ],
   "source": [
    "# import pandas and numpy \n",
    "import pandas as pd\n",
    "import numpy as np\n",
    " \n",
    "# creating simple array\n",
    "data = np.array(['g','e','e','k','s','f', 'o','r','g','e','e','k','s'])\n",
    "# creating a series\n",
    "ser = pd.Series(data)\n",
    "  \n",
    "  \n",
    "#retrieve the first element\n",
    "print(ser[:5])"
   ]
  },
  {
   "cell_type": "markdown",
   "id": "fd2240d1",
   "metadata": {},
   "source": [
    "Accessing Element Using Label (index) :\n",
    "In order to access an element from series, we have to set values by index label. A Series is like a fixed-size dictionary in that you can get and set values by index label.\n",
    "\n",
    "Accessing a single element using index label"
   ]
  },
  {
   "cell_type": "code",
   "execution_count": 8,
   "id": "d2628263",
   "metadata": {},
   "outputs": [
    {
     "name": "stdout",
     "output_type": "stream",
     "text": [
      "o\n"
     ]
    }
   ],
   "source": [
    "# import pandas and numpy \n",
    "import pandas as pd\n",
    "import numpy as np\n",
    " \n",
    "# creating simple array\n",
    "data = np.array(['g','e','e','k','s','f', 'o','r','g','e','e','k','s'])\n",
    "ser = pd.Series(data,index=[10,11,12,13,14,15,16,17,18,19,20,21,22])\n",
    "  \n",
    "  \n",
    "# accessing a element using index element\n",
    "print(ser[16])"
   ]
  },
  {
   "cell_type": "markdown",
   "id": "4e794216",
   "metadata": {},
   "source": [
    "### Indexing and Selecting Data in Series\n",
    "\n",
    "Indexing in pandas means simply selecting particular data from a Series. Indexing could mean selecting all the data, some of the data from particular columns. Indexing can also be known as Subset Selection.\n",
    "\n",
    "Indexing a Series using indexing operator [] :\n",
    "Indexing operator is used to refer to the square brackets following an object. The .loc and .iloc indexers also use the indexing operator to make selections. In this indexing operator to refer to df[ ]."
   ]
  },
  {
   "cell_type": "code",
   "execution_count": 14,
   "id": "447fed6e",
   "metadata": {},
   "outputs": [
    {
     "data": {
      "text/plain": [
       "0    Avery Bradley\n",
       "1      Jae Crowder\n",
       "2     John Holland\n",
       "3      R.J. Hunter\n",
       "4    Jonas Jerebko\n",
       "5     Amir Johnson\n",
       "6    Jordan Mickey\n",
       "7     Kelly Olynyk\n",
       "8     Terry Rozier\n",
       "9     Marcus Smart\n",
       "Name: Name, dtype: object"
      ]
     },
     "execution_count": 14,
     "metadata": {},
     "output_type": "execute_result"
    }
   ],
   "source": [
    "# importing pandas module  \n",
    "import pandas as pd  \n",
    "     \n",
    "# making data frame  \n",
    "df = pd.read_csv(\"nba.csv\")  #nba.csv is the dataset in the same local directory where the notebook is created\n",
    "   \n",
    "ser = pd.Series(df['Name']) \n",
    "data = ser.head(10)\n",
    "data "
   ]
  },
  {
   "cell_type": "code",
   "execution_count": 12,
   "id": "b7adb1e3",
   "metadata": {},
   "outputs": [
    {
     "data": {
      "text/plain": [
       "3      R.J. Hunter\n",
       "4    Jonas Jerebko\n",
       "5     Amir Johnson\n",
       "Name: Name, dtype: object"
      ]
     },
     "execution_count": 12,
     "metadata": {},
     "output_type": "execute_result"
    }
   ],
   "source": [
    "# using indexing operator\n",
    "data[3:6] "
   ]
  },
  {
   "cell_type": "markdown",
   "id": "7038e1c6",
   "metadata": {},
   "source": [
    "### Indexing a Series using .loc[ ] :\n",
    "This function selects data by refering the explicit index . The df.loc indexer selects data in a different way than just the indexing operator. It can select subsets of data."
   ]
  },
  {
   "cell_type": "code",
   "execution_count": 15,
   "id": "71cab46a",
   "metadata": {},
   "outputs": [
    {
     "data": {
      "text/plain": [
       "0    Avery Bradley\n",
       "1      Jae Crowder\n",
       "2     John Holland\n",
       "3      R.J. Hunter\n",
       "4    Jonas Jerebko\n",
       "5     Amir Johnson\n",
       "6    Jordan Mickey\n",
       "7     Kelly Olynyk\n",
       "8     Terry Rozier\n",
       "9     Marcus Smart\n",
       "Name: Name, dtype: object"
      ]
     },
     "execution_count": 15,
     "metadata": {},
     "output_type": "execute_result"
    }
   ],
   "source": [
    "# importing pandas module  \n",
    "import pandas as pd  \n",
    "     \n",
    "# making data frame  \n",
    "df = pd.read_csv(\"nba.csv\")  \n",
    "   \n",
    "ser = pd.Series(df['Name']) \n",
    "data = ser.head(10)\n",
    "data "
   ]
  },
  {
   "cell_type": "code",
   "execution_count": 16,
   "id": "7e073fa4",
   "metadata": {},
   "outputs": [
    {
     "data": {
      "text/plain": [
       "3      R.J. Hunter\n",
       "4    Jonas Jerebko\n",
       "5     Amir Johnson\n",
       "6    Jordan Mickey\n",
       "Name: Name, dtype: object"
      ]
     },
     "execution_count": 16,
     "metadata": {},
     "output_type": "execute_result"
    }
   ],
   "source": [
    "# using .loc[] function\n",
    "data.loc[3:6]"
   ]
  },
  {
   "cell_type": "markdown",
   "id": "2b1e17e4",
   "metadata": {},
   "source": [
    "### Indexing a Series using .iloc[ ] :\n",
    "This function allows us to retrieve data by position. In order to do that, we’ll need to specify the positions of the data that we want. The df.iloc indexer is very similar to df.loc but only uses integer locations to make its selections."
   ]
  },
  {
   "cell_type": "code",
   "execution_count": 17,
   "id": "b46788f9",
   "metadata": {},
   "outputs": [
    {
     "data": {
      "text/plain": [
       "0    Avery Bradley\n",
       "1      Jae Crowder\n",
       "2     John Holland\n",
       "3      R.J. Hunter\n",
       "4    Jonas Jerebko\n",
       "5     Amir Johnson\n",
       "6    Jordan Mickey\n",
       "7     Kelly Olynyk\n",
       "8     Terry Rozier\n",
       "9     Marcus Smart\n",
       "Name: Name, dtype: object"
      ]
     },
     "execution_count": 17,
     "metadata": {},
     "output_type": "execute_result"
    }
   ],
   "source": [
    "# importing pandas module  \n",
    "import pandas as pd  \n",
    "     \n",
    "# making data frame  \n",
    "df = pd.read_csv(\"nba.csv\")  \n",
    "   \n",
    "ser = pd.Series(df['Name']) \n",
    "data = ser.head(10)\n",
    "data "
   ]
  },
  {
   "cell_type": "code",
   "execution_count": 18,
   "id": "e663b2c0",
   "metadata": {},
   "outputs": [
    {
     "data": {
      "text/plain": [
       "3      R.J. Hunter\n",
       "4    Jonas Jerebko\n",
       "5     Amir Johnson\n",
       "Name: Name, dtype: object"
      ]
     },
     "execution_count": 18,
     "metadata": {},
     "output_type": "execute_result"
    }
   ],
   "source": [
    "# using .iloc[] function\n",
    "data.iloc[3:6]"
   ]
  },
  {
   "cell_type": "markdown",
   "id": "23a87b1e",
   "metadata": {},
   "source": [
    "### Binary Operation on Series\n",
    "\n",
    "We can perform binary operation on series like addition, subtraction and many other operation. \n",
    "In order to perform binary operation on series we have to use some function like .add(),.sub() etc.."
   ]
  },
  {
   "cell_type": "code",
   "execution_count": 23,
   "id": "75519844",
   "metadata": {},
   "outputs": [
    {
     "name": "stdout",
     "output_type": "stream",
     "text": [
      "a    5\n",
      "b    2\n",
      "c    3\n",
      "d    7\n",
      "dtype: int64 \n",
      "\n",
      " a    1\n",
      "b    6\n",
      "d    4\n",
      "e    9\n",
      "dtype: int64\n"
     ]
    }
   ],
   "source": [
    "# importing pandas module  \n",
    "import pandas as pd  \n",
    " \n",
    "# creating a series\n",
    "data = pd.Series([5, 2, 3,7], index=['a', 'b', 'c', 'd'])\n",
    " \n",
    "# creating a series\n",
    "data1 = pd.Series([1, 6, 4, 9], index=['a', 'b', 'd', 'e'])\n",
    " \n",
    "print(data,\"\\n\\n\",data1)"
   ]
  },
  {
   "cell_type": "code",
   "execution_count": 24,
   "id": "9c521257",
   "metadata": {
    "scrolled": true
   },
   "outputs": [
    {
     "data": {
      "text/plain": [
       "a     6.0\n",
       "b     8.0\n",
       "c     3.0\n",
       "d    11.0\n",
       "e     9.0\n",
       "dtype: float64"
      ]
     },
     "execution_count": 24,
     "metadata": {},
     "output_type": "execute_result"
    }
   ],
   "source": [
    "# adding two series using\n",
    "# .add\n",
    "data.add(data1, fill_value=0)"
   ]
  },
  {
   "cell_type": "code",
   "execution_count": 25,
   "id": "7313141d",
   "metadata": {},
   "outputs": [
    {
     "name": "stdout",
     "output_type": "stream",
     "text": [
      "a    5\n",
      "b    2\n",
      "c    3\n",
      "d    7\n",
      "dtype: int64 \n",
      "\n",
      " a    1\n",
      "b    6\n",
      "d    4\n",
      "e    9\n",
      "dtype: int64\n"
     ]
    }
   ],
   "source": [
    "# importing pandas module  \n",
    "import pandas as pd  \n",
    " \n",
    "# creating a series\n",
    "data = pd.Series([5, 2, 3,7], index=['a', 'b', 'c', 'd'])\n",
    " \n",
    "# creating a series\n",
    "data1 = pd.Series([1, 6, 4, 9], index=['a', 'b', 'd', 'e'])\n",
    " \n",
    "print(data, \"\\n\\n\", data1)"
   ]
  },
  {
   "cell_type": "code",
   "execution_count": 26,
   "id": "d8586cf0",
   "metadata": {},
   "outputs": [
    {
     "data": {
      "text/plain": [
       "a    4.0\n",
       "b   -4.0\n",
       "c    3.0\n",
       "d    3.0\n",
       "e   -9.0\n",
       "dtype: float64"
      ]
     },
     "execution_count": 26,
     "metadata": {},
     "output_type": "execute_result"
    }
   ],
   "source": [
    "# subtracting two series using\n",
    "# .sub\n",
    "data.sub(data1, fill_value=0)"
   ]
  },
  {
   "cell_type": "markdown",
   "id": "42ae897b",
   "metadata": {},
   "source": [
    "### Conversion Operation on Series\n",
    "\n",
    "In conversion operation we perform various operation like changing datatype of series, changing a series to list etc. In order to perform conversion operation we have various function which help in conversion like .astype(), .tolist() etc."
   ]
  },
  {
   "cell_type": "code",
   "execution_count": 27,
   "id": "0072cbba",
   "metadata": {},
   "outputs": [
    {
     "name": "stdout",
     "output_type": "stream",
     "text": [
      "BEFORE CONVERSION\n",
      " Name         object\n",
      "Team         object\n",
      "Number      float64\n",
      "Position     object\n",
      "Age         float64\n",
      "Height       object\n",
      "Weight      float64\n",
      "College      object\n",
      "Salary      float64\n",
      "dtype: object \n",
      "\n",
      "AFTER CONVERSION\n",
      " Name         object\n",
      "Team         object\n",
      "Number       object\n",
      "Position     object\n",
      "Age         float64\n",
      "Height       object\n",
      "Weight      float64\n",
      "College      object\n",
      "Salary        int64\n",
      "dtype: object \n",
      "\n"
     ]
    }
   ],
   "source": [
    "# Python program using astype\n",
    "# to convert a datatype of series\n",
    " \n",
    "# importing pandas module  \n",
    "import pandas as pd \n",
    "   \n",
    "# reading csv file from url  \n",
    "data = pd.read_csv(\"nba.csv\") \n",
    "    \n",
    "# dropping null value columns to avoid errors \n",
    "data.dropna(inplace = True) \n",
    "   \n",
    "# storing dtype before converting \n",
    "before = data.dtypes \n",
    "   \n",
    "# converting dtypes using astype \n",
    "data[\"Salary\"]= data[\"Salary\"].astype(int) \n",
    "data[\"Number\"]= data[\"Number\"].astype(str) \n",
    "   \n",
    "# storing dtype after converting \n",
    "after = data.dtypes \n",
    "   \n",
    "# printing to compare # Python program using astype\n",
    "# to convert a datatype of series\n",
    " \n",
    "# importing pandas module  \n",
    "import pandas as pd \n",
    "   \n",
    "# reading csv file from url  \n",
    "data = pd.read_csv(\"nba.csv\") \n",
    "    \n",
    "# dropping null value columns to avoid errors \n",
    "data.dropna(inplace = True) \n",
    "   \n",
    "# storing dtype before converting \n",
    "before = data.dtypes \n",
    "   \n",
    "# converting dtypes using astype \n",
    "data[\"Salary\"]= data[\"Salary\"].astype(int) \n",
    "data[\"Number\"]= data[\"Number\"].astype(str) \n",
    "   \n",
    "# storing dtype after converting \n",
    "after = data.dtypes \n",
    "   \n",
    "# printing to compare \n",
    "print(\"BEFORE CONVERSION\\n\", before, \"\\n\") \n",
    "print(\"AFTER CONVERSION\\n\", after, \"\\n\") \n",
    "print(\"BEFORE CONVERSION\\n\", before, \"\\n\") \n",
    "print(\"AFTER CONVERSION\\n\", after, \"\\n\") "
   ]
  },
  {
   "cell_type": "code",
   "execution_count": 31,
   "id": "f8e0dda9",
   "metadata": {},
   "outputs": [
    {
     "name": "stdout",
     "output_type": "stream",
     "text": [
      "Data type before converting = <class 'pandas.core.series.Series'>\n",
      "Data type after converting = <class 'list'>\n"
     ]
    },
    {
     "data": {
      "text/plain": [
       "[7730337.0,\n",
       " 6796117.0,\n",
       " 1148640.0,\n",
       " 1170960.0,\n",
       " 2165160.0,\n",
       " 1824360.0,\n",
       " 3431040.0,\n",
       " 2569260.0,\n",
       " 6912869.0,\n",
       " 3425510.0,\n",
       " 1749840.0,\n",
       " 2616975.0,\n",
       " 845059.0,\n",
       " 1500000.0,\n",
       " 1335480.0,\n",
       " 6300000.0,\n",
       " 134215.0,\n",
       " 1500000.0,\n",
       " 19689000.0,\n",
       " 1140240.0,\n",
       " 947276.0,\n",
       " 981348.0,\n",
       " 947276.0,\n",
       " 947276.0,\n",
       " 11235955.0,\n",
       " 8000000.0,\n",
       " 1635476.0,\n",
       " 22875000.0,\n",
       " 845059.0,\n",
       " 845059.0,\n",
       " 1572360.0,\n",
       " 12650000.0,\n",
       " 3750000.0,\n",
       " 1636842.0,\n",
       " 4000000.0,\n",
       " 167406.0,\n",
       " 947276.0,\n",
       " 1000000.0,\n",
       " 4626960.0,\n",
       " 845059.0,\n",
       " 1074169.0,\n",
       " 6500000.0,\n",
       " 2144772.0,\n",
       " 525093.0,\n",
       " 3457800.0,\n",
       " 4582680.0,\n",
       " 947276.0,\n",
       " 2869440.0,\n",
       " 947276.0,\n",
       " 525093.0,\n",
       " 13600000.0,\n",
       " 10050000.0,\n",
       " 2500000.0,\n",
       " 7000000.0,\n",
       " 12000000.0,\n",
       " 6268675.0,\n",
       " 650000.0,\n",
       " 3553917.0,\n",
       " 245177.0,\n",
       " 1509360.0,\n",
       " 3873398.0,\n",
       " 13800000.0,\n",
       " 947276.0,\n",
       " 11370786.0,\n",
       " 2008748.0,\n",
       " 14260870.0,\n",
       " 11710456.0,\n",
       " 1131960.0,\n",
       " 845059.0,\n",
       " 1270964.0,\n",
       " 3815000.0,\n",
       " 15501000.0,\n",
       " 1100602.0,\n",
       " 111444.0,\n",
       " 5675000.0,\n",
       " 525093.0,\n",
       " 9650000.0,\n",
       " 18907726.0,\n",
       " 1100602.0,\n",
       " 19689000.0,\n",
       " 947276.0,\n",
       " 21468695.0,\n",
       " 3376000.0,\n",
       " 7085000.0,\n",
       " 3110796.0,\n",
       " 1159680.0,\n",
       " 3000000.0,\n",
       " 845059.0,\n",
       " 700000.0,\n",
       " 845059.0,\n",
       " 15592217.0,\n",
       " 1724250.0,\n",
       " 1155600.0,\n",
       " 3132240.0,\n",
       " 5103120.0,\n",
       " 981348.0,\n",
       " 947276.0,\n",
       " 5219169.0,\n",
       " 13500000.0,\n",
       " 2127840.0,\n",
       " 206192.0,\n",
       " 1160160.0,\n",
       " 981348.0,\n",
       " 13500000.0,\n",
       " 3807120.0,\n",
       " 1035000.0,\n",
       " 55722.0,\n",
       " 947276.0,\n",
       " 5500000.0,\n",
       " 2041080.0,\n",
       " 83397.0,\n",
       " 981348.0,\n",
       " 1015421.0,\n",
       " 1449187.0,\n",
       " 3398280.0,\n",
       " 5013559.0,\n",
       " 15851950.0,\n",
       " 947276.0,\n",
       " 525093.0,\n",
       " 12403101.0,\n",
       " 7700000.0,\n",
       " 3156600.0,\n",
       " 845059.0,\n",
       " 9500000.0,\n",
       " 845059.0,\n",
       " 2250000.0,\n",
       " 16407500.0,\n",
       " 4500000.0,\n",
       " 8500000.0,\n",
       " 947276.0,\n",
       " 2380440.0,\n",
       " 1015421.0,\n",
       " 13400000.0,\n",
       " 1391160.0,\n",
       " 20093064.0,\n",
       " 1535880.0,\n",
       " 1147276.0,\n",
       " 8193029.0,\n",
       " 16407501.0,\n",
       " 947276.0,\n",
       " 947276.0,\n",
       " 1276000.0,\n",
       " 19689000.0,\n",
       " 111196.0,\n",
       " 8988765.0,\n",
       " 14260870.0,\n",
       " 2100000.0,\n",
       " 2500000.0,\n",
       " 6500000.0,\n",
       " 2170465.0,\n",
       " 111444.0,\n",
       " 1252440.0,\n",
       " 2891760.0,\n",
       " 845059.0,\n",
       " 3272091.0,\n",
       " 16000000.0,\n",
       " 600000.0,\n",
       " 13913044.0,\n",
       " 2841960.0,\n",
       " 6270000.0,\n",
       " 5000000.0,\n",
       " 3000000.0,\n",
       " 4050000.0,\n",
       " 1007026.0,\n",
       " 17120106.0,\n",
       " 8000000.0,\n",
       " 4000000.0,\n",
       " 1358880.0,\n",
       " 211744.0,\n",
       " 1100000.0,\n",
       " 7000000.0,\n",
       " 2357760.0,\n",
       " 845059.0,\n",
       " 1007026.0,\n",
       " 3000000.0,\n",
       " 2399040.0,\n",
       " 947276.0,\n",
       " 1662360.0,\n",
       " 2943221.0,\n",
       " 8000000.0,\n",
       " 14700000.0,\n",
       " 16407500.0,\n",
       " 295327.0,\n",
       " 845059.0,\n",
       " 5152440.0,\n",
       " 2109294.0,\n",
       " 6600000.0,\n",
       " 1733040.0,\n",
       " 1449000.0,\n",
       " 4290000.0,\n",
       " 1100602.0,\n",
       " 3950313.0,\n",
       " 4053446.0,\n",
       " 2085671.0,\n",
       " 16407500.0,\n",
       " 1270964.0,\n",
       " 15361500.0,\n",
       " 845059.0,\n",
       " 947276.0,\n",
       " 5378974.0,\n",
       " 8193030.0,\n",
       " 306527.0,\n",
       " 6486486.0,\n",
       " 8229375.0,\n",
       " 1646400.0,\n",
       " 200600.0,\n",
       " 15756438.0,\n",
       " 1000000.0,\n",
       " 2489530.0,\n",
       " 3189794.0,\n",
       " 947276.0,\n",
       " 1404600.0,\n",
       " 5158539.0,\n",
       " 5000000.0,\n",
       " 3542500.0,\n",
       " 4088019.0,\n",
       " 9588426.0,\n",
       " 700902.0,\n",
       " 845059.0,\n",
       " 1201440.0,\n",
       " 1230840.0,\n",
       " 9638555.0,\n",
       " 9000000.0,\n",
       " 5464000.0,\n",
       " 8500000.0,\n",
       " 1100602.0,\n",
       " 3036927.0,\n",
       " 2850000.0,\n",
       " 7070730.0,\n",
       " 169883.0,\n",
       " 1164858.0,\n",
       " 845059.0,\n",
       " 10734586.0,\n",
       " 845059.0,\n",
       " 1320000.0,\n",
       " 15514031.0,\n",
       " 1015421.0,\n",
       " 10595507.0,\n",
       " 55722.0,\n",
       " 3382023.0,\n",
       " 19689000.0,\n",
       " 1142880.0,\n",
       " 947276.0,\n",
       " 5250000.0,\n",
       " 10000000.0,\n",
       " 16407500.0,\n",
       " 200600.0,\n",
       " 250750.0,\n",
       " 3578947.0,\n",
       " 525093.0,\n",
       " 1499187.0,\n",
       " 2000000.0,\n",
       " 1304520.0,\n",
       " 2854940.0,\n",
       " 12000000.0,\n",
       " 1000000.0,\n",
       " 5746479.0,\n",
       " 18671659.0,\n",
       " 947276.0,\n",
       " 525093.0,\n",
       " 3333333.0,\n",
       " 8000000.0,\n",
       " 947276.0,\n",
       " 189455.0,\n",
       " 947276.0,\n",
       " 525093.0,\n",
       " 6110034.0,\n",
       " 2612520.0,\n",
       " 6331404.0,\n",
       " 3034356.0,\n",
       " 5675000.0,\n",
       " 2139000.0,\n",
       " 12000000.0,\n",
       " 7000000.0,\n",
       " 4204200.0,\n",
       " 22192730.0,\n",
       " 10151612.0,\n",
       " 2854940.0,\n",
       " 261894.0,\n",
       " 845059.0,\n",
       " 5543725.0,\n",
       " 525093.0,\n",
       " 20000000.0,\n",
       " 981348.0,\n",
       " 2481720.0,\n",
       " 947276.0,\n",
       " 4171680.0,\n",
       " 845059.0,\n",
       " 1294440.0,\n",
       " 2380593.0,\n",
       " 5192520.0,\n",
       " 2505720.0,\n",
       " 4300000.0,\n",
       " 11250000.0,\n",
       " 5000000.0,\n",
       " 4000000.0,\n",
       " 5694674.0,\n",
       " 4375000.0,\n",
       " 561716.0,\n",
       " 3300000.0,\n",
       " 273038.0,\n",
       " 8000000.0,\n",
       " 1920240.0,\n",
       " 4662960.0,\n",
       " 2170465.0,\n",
       " 1100602.0,\n",
       " 200600.0,\n",
       " 15851950.0,\n",
       " 2814000.0,\n",
       " 3000000.0,\n",
       " 3533333.0,\n",
       " 10449438.0,\n",
       " 11235955.0,\n",
       " 1584480.0,\n",
       " 947276.0,\n",
       " 4345000.0,\n",
       " 258489.0,\n",
       " 1474440.0,\n",
       " 1282080.0,\n",
       " 2148360.0,\n",
       " 2056920.0,\n",
       " 1938840.0,\n",
       " 947276.0,\n",
       " 5703600.0,\n",
       " 5758680.0,\n",
       " 2279040.0,\n",
       " 3750000.0,\n",
       " 20158622.0,\n",
       " 3135000.0,\n",
       " 1140240.0,\n",
       " 16407500.0,\n",
       " 1463040.0,\n",
       " 222888.0,\n",
       " 3344000.0,\n",
       " 2021520.0,\n",
       " 1210800.0,\n",
       " 4500000.0,\n",
       " 5138430.0,\n",
       " 16744218.0,\n",
       " 525093.0,\n",
       " 8042895.0,\n",
       " 625093.0,\n",
       " 947276.0,\n",
       " 6980802.0,\n",
       " 2894059.0,\n",
       " 6000000.0,\n",
       " 5016000.0,\n",
       " 3075880.0,\n",
       " 4236287.0,\n",
       " 2525160.0,\n",
       " 525093.0,\n",
       " 1415520.0,\n",
       " 2854940.0,\n",
       " 2637720.0,\n",
       " 4775000.0,\n",
       " 2658240.0,\n",
       " 9463484.0,\n",
       " 12000000.0,\n",
       " 15409570.0,\n",
       " 1348440.0,\n",
       " 981348.0,\n",
       " 2239800.0,\n",
       " 2433333.0,\n",
       " 947276.0]"
      ]
     },
     "execution_count": 31,
     "metadata": {},
     "output_type": "execute_result"
    }
   ],
   "source": [
    "# Python program converting\n",
    "# a series into list\n",
    " \n",
    "# importing pandas module  \n",
    "import pandas as pd  \n",
    "   \n",
    "# importing regex module \n",
    "import re \n",
    "     \n",
    "# making data frame  \n",
    "data = pd.read_csv(\"nba.csv\")  \n",
    "     \n",
    "# removing null values to avoid errors  \n",
    "data.dropna(inplace = True)  \n",
    "   \n",
    "# storing dtype before operation \n",
    "dtype_before = type(data[\"Salary\"]) \n",
    "   \n",
    "# converting to list \n",
    "salary_list = data[\"Salary\"].tolist() \n",
    "   \n",
    "# storing dtype after operation \n",
    "dtype_after = type(salary_list) \n",
    "   \n",
    "# printing dtype \n",
    "print(\"Data type before converting = {}\\nData type after converting = {}\"\n",
    "      .format(dtype_before, dtype_after)) \n",
    "   \n",
    "# displaying list \n",
    "salary_list "
   ]
  },
  {
   "cell_type": "markdown",
   "id": "4e5595ec",
   "metadata": {},
   "source": [
    "### Binary operation methods on series:\n",
    "\n",
    "    add()\tMethod is used to add series or list like objects with same length to the caller series\n",
    "    sub()\tMethod is used to subtract series or list like objects with same length from the caller series\n",
    "    mul()\tMethod is used to multiply series or list like objects with same length with the caller series\n",
    "    div()\tMethod is used to divide series or list like objects with same length by the caller series\n",
    "    sum()\tReturns the sum of the values for the requested axis\n",
    "    prod()\tReturns the product of the values for the requested axis\n",
    "    mean()\tReturns the mean of the values for the requested axis\n",
    "    pow()\tMethod is used to put each element of passed series as exponential power of caller series and returned the results\n",
    "    abs()\tMethod is used to get the absolute numeric value of each element in Series/DataFrame\n",
    "    cov()\tMethod is used to find covariance of two series"
   ]
  },
  {
   "cell_type": "markdown",
   "id": "ffcd4f2e",
   "metadata": {},
   "source": [
    "# Pandas DataFrame\n",
    "It is two-dimensional size-mutable, potentially heterogeneous tabular data structure with labeled axes (rows and columns). A Data frame is a two-dimensional data structure, i.e., data is aligned in a tabular fashion in rows and columns. Pandas DataFrame consists of three principal components, the data, rows, and columns."
   ]
  },
  {
   "cell_type": "markdown",
   "id": "e1312786",
   "metadata": {},
   "source": [
    "### Creating a Pandas DataFrame\n",
    "\n",
    "In the real world, a Pandas DataFrame will be created by loading the datasets from existing storage, storage can be SQL Database, CSV file, and Excel file. Pandas DataFrame can be created from the lists, dictionary, and from a list of dictionary etc. Dataframe can be created in different ways here are some ways by which we create a dataframe:\n",
    "\n",
    "Creating a dataframe using List: DataFrame can be created using a single list or a list of lists."
   ]
  },
  {
   "cell_type": "code",
   "execution_count": 33,
   "id": "523dbb6d",
   "metadata": {},
   "outputs": [
    {
     "name": "stdout",
     "output_type": "stream",
     "text": [
      "        0\n",
      "0   Geeks\n",
      "1     For\n",
      "2   Geeks\n",
      "3      is\n",
      "4  portal\n",
      "5     for\n",
      "6   Geeks\n"
     ]
    }
   ],
   "source": [
    "# import pandas as pd\n",
    "import pandas as pd\n",
    " \n",
    "# list of strings\n",
    "lst = ['Geeks', 'For', 'Geeks', 'is', \n",
    "            'portal', 'for', 'Geeks']\n",
    " \n",
    "# Calling DataFrame constructor on list\n",
    "df = pd.DataFrame(lst)\n",
    "print(df)"
   ]
  },
  {
   "cell_type": "markdown",
   "id": "213aa5ff",
   "metadata": {},
   "source": [
    "### Creating DataFrame from dict of ndarray/lists: \n",
    "To create DataFrame from dict of narray/list, all the narray must be of same length. If index is passed then the length index should be equal to the length of arrays. If no index is passed, then by default, index will be range(n) where n is the array length."
   ]
  },
  {
   "cell_type": "code",
   "execution_count": 34,
   "id": "8100d4ad",
   "metadata": {},
   "outputs": [
    {
     "name": "stdout",
     "output_type": "stream",
     "text": [
      "    Name  Age\n",
      "0    Tom   20\n",
      "1   nick   21\n",
      "2  krish   19\n",
      "3   jack   18\n"
     ]
    }
   ],
   "source": [
    "# Python code demonstrate creating \n",
    "# DataFrame from dict narray / lists \n",
    "# By default addresses.\n",
    " \n",
    "import pandas as pd\n",
    " \n",
    "# intialise data of lists.\n",
    "data = {'Name':['Tom', 'nick', 'krish', 'jack'],\n",
    "        'Age':[20, 21, 19, 18]}\n",
    " \n",
    "# Create DataFrame\n",
    "df = pd.DataFrame(data)\n",
    " \n",
    "# Print the output.\n",
    "print(df)"
   ]
  },
  {
   "cell_type": "markdown",
   "id": "0386c5c8",
   "metadata": {},
   "source": [
    "### Column Selection: \n",
    "In Order to select a column in Pandas DataFrame, we can either access the columns by calling them by their columns name."
   ]
  },
  {
   "cell_type": "code",
   "execution_count": 35,
   "id": "fc308190",
   "metadata": {},
   "outputs": [
    {
     "name": "stdout",
     "output_type": "stream",
     "text": [
      "     Name Qualification\n",
      "0     Jai           Msc\n",
      "1  Princi            MA\n",
      "2  Gaurav           MCA\n",
      "3    Anuj           Phd\n"
     ]
    }
   ],
   "source": [
    "# Import pandas package\n",
    "import pandas as pd\n",
    " \n",
    "# Define a dictionary containing employee data\n",
    "data = {'Name':['Jai', 'Princi', 'Gaurav', 'Anuj'],\n",
    "        'Age':[27, 24, 22, 32],\n",
    "        'Address':['Delhi', 'Kanpur', 'Allahabad', 'Kannauj'],\n",
    "        'Qualification':['Msc', 'MA', 'MCA', 'Phd']}\n",
    " \n",
    "# Convert the dictionary into DataFrame \n",
    "df = pd.DataFrame(data)\n",
    " \n",
    "# select two columns\n",
    "print(df[['Name', 'Qualification']])"
   ]
  },
  {
   "cell_type": "code",
   "execution_count": 37,
   "id": "80f12793",
   "metadata": {},
   "outputs": [
    {
     "name": "stdout",
     "output_type": "stream",
     "text": [
      "     Name  Age    Address Qualification\n",
      "0     Jai   27      Delhi           Msc\n",
      "1  Princi   24     Kanpur            MA\n",
      "2  Gaurav   22  Allahabad           MCA\n",
      "3    Anuj   32    Kannauj           Phd\n"
     ]
    }
   ],
   "source": [
    "print (df) #printing all the dataframe contents of df"
   ]
  },
  {
   "cell_type": "markdown",
   "id": "47c703b4",
   "metadata": {},
   "source": [
    "### Row Selection: \n",
    "Pandas provide a unique method to retrieve rows from a Data frame. DataFrame.loc[] method is used to retrieve rows from Pandas DataFrame. Rows can also be selected by passing integer location to an iloc[] function.\n",
    "\n",
    "Note: We’ll be using nba.csv file in below examples."
   ]
  },
  {
   "cell_type": "code",
   "execution_count": 39,
   "id": "aacdc596",
   "metadata": {},
   "outputs": [
    {
     "name": "stdout",
     "output_type": "stream",
     "text": [
      "Team        Boston Celtics\n",
      "Number                 0.0\n",
      "Position                PG\n",
      "Age                   25.0\n",
      "Height                 6-2\n",
      "Weight               180.0\n",
      "College              Texas\n",
      "Salary           7730337.0\n",
      "Name: Avery Bradley, dtype: object \n",
      "\n",
      "\n",
      " Team        Boston Celtics\n",
      "Number                28.0\n",
      "Position                SG\n",
      "Age                   22.0\n",
      "Height                 6-5\n",
      "Weight               185.0\n",
      "College      Georgia State\n",
      "Salary           1148640.0\n",
      "Name: R.J. Hunter, dtype: object\n"
     ]
    }
   ],
   "source": [
    "# importing pandas package\n",
    "import pandas as pd\n",
    " \n",
    "# making data frame from csv file\n",
    "data = pd.read_csv(\"nba.csv\", index_col =\"Name\")\n",
    " \n",
    "# retrieving row by loc method\n",
    "first = data.loc[\"Avery Bradley\"]\n",
    "second = data.loc[\"R.J. Hunter\"]\n",
    " \n",
    " \n",
    "print(first, \"\\n\\n\\n\", second)"
   ]
  },
  {
   "cell_type": "markdown",
   "id": "b8bb3cd5",
   "metadata": {},
   "source": [
    "### Indexing and Selecting Data\n",
    "\n",
    "Indexing in pandas means simply selecting particular rows and columns of data from a DataFrame. Indexing could mean selecting all the rows and some of the columns, some of the rows and all of the columns, or some of each of the rows and columns. Indexing can also be known as Subset Selection.\n",
    "\n",
    "Indexing a Dataframe using indexing operator [] :\n",
    "\n",
    "Indexing operator is used to refer to the square brackets following an object. The .loc and .iloc indexers also use the indexing operator to make selections. In this indexing operator to refer to df[]."
   ]
  },
  {
   "cell_type": "markdown",
   "id": "1dcd9e6c",
   "metadata": {},
   "source": [
    "### Selecting a single columns\n",
    "\n",
    "In order to select a single column, we simply put the name of the column in-between the brackets"
   ]
  },
  {
   "cell_type": "code",
   "execution_count": 47,
   "id": "94a5e199",
   "metadata": {},
   "outputs": [
    {
     "name": "stdout",
     "output_type": "stream",
     "text": [
      "Name\n",
      "Avery Bradley    25.0\n",
      "Jae Crowder      25.0\n",
      "John Holland     27.0\n",
      "R.J. Hunter      22.0\n",
      "Jonas Jerebko    29.0\n",
      "                 ... \n",
      "Shelvin Mack     26.0\n",
      "Raul Neto        24.0\n",
      "Tibor Pleiss     26.0\n",
      "Jeff Withey      26.0\n",
      "NaN               NaN\n",
      "Name: Age, Length: 458, dtype: float64\n"
     ]
    }
   ],
   "source": [
    "# importing pandas package\n",
    "import pandas as pd\n",
    " \n",
    "# making data frame from csv file\n",
    "data = pd.read_csv(\"nba.csv\", index_col =\"Name\")\n",
    " \n",
    "# retrieving columns by indexing operator\n",
    "first = data[\"Age\"]\n",
    " \n",
    " \n",
    " \n",
    "print(first)"
   ]
  }
 ],
 "metadata": {
  "kernelspec": {
   "display_name": "Python 3 (ipykernel)",
   "language": "python",
   "name": "python3"
  },
  "language_info": {
   "codemirror_mode": {
    "name": "ipython",
    "version": 3
   },
   "file_extension": ".py",
   "mimetype": "text/x-python",
   "name": "python",
   "nbconvert_exporter": "python",
   "pygments_lexer": "ipython3",
   "version": "3.8.10"
  }
 },
 "nbformat": 4,
 "nbformat_minor": 5
}
